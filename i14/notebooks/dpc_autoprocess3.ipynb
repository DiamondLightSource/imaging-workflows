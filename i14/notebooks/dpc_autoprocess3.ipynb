{
 "cells": [
  {
   "cell_type": "code",
   "execution_count": null,
   "metadata": {
    "tags": [
     "parameters"
    ]
   },
   "outputs": [],
   "source": [
    "# This cell is tagged with \"parameters\" and used by papermill\n",
    "# the outpath will be overridden to keep the name backward compatible if it is from auto-processing\n",
    "\n",
    "# default settings\n",
    "inpath = \"\" # type: str\n",
    "outpath = \"\" # type: str\n",
    "dask_use_local_cluster = True # type: bool\n",
    "dask_num_workers = 12 # type: int\n",
    "process_configfile = \"/dls_sw/i14/ops/processing/auto/processing.yaml\" # type: str\n",
    "auto_processing = True # type: bool"
   ]
  },
  {
   "cell_type": "markdown",
   "metadata": {},
   "source": [
    "## Usage\n",
    "This notebook takes a scan file `inpath`, reconstructs the differential phase contrast (DPC) images, and save the results in `outpath`. \n",
    "\n",
    "### Parameters\n",
    "`inpath` : str    \n",
    "    the full path of the scan file. e.g. \"/dls/i14/data/2024/cm37259-1/scan/i14-274317.nxs\"  \n",
    "`outpath` : str    \n",
    "    the full path of the output file. e.g. \"/dls/i14/data/2024/cm37259-1/processed/i14-274317_dpc-phase.nxs\". `outpath` will be overridden if it is triggered by auto-processing, as defined by the flag `auto_processing` (default to `True`); for post-processing, `outpath` will not be modified.   \n",
    "`dask_use_local_cluster` : bool  \n",
    "    the flag of using Dask local cluster. If it is true, the reconstruction is often faster at the expense of memory.  \n",
    "`dask_num_workers` : int    \n",
    "    the number of Dask workers if local cluster is used.   \n",
    "`process_configfile` : str   \n",
    "    the path of the process configuration file. Default to the one widely used by different analysis.   \n",
    "`auto_processing` : bool    \n",
    "    the flag to state this is an auto- or post-processing.\n",
    "\n",
    "**The parameters should be provided by explicitly modifying the top cell content or using tools such as [papermill](https://papermill.readthedocs.io/en/latest/index.html). If the notebook is run as is, please define the parameters accordingly.**\n",
    "\n",
    "### Dependencies\n",
    "Majority of the work is carried out by [i14-utility-dpc](https://gitlab.diamond.ac.uk/i14/i14_utility).\n",
    "- numpy\n",
    "- dask[distributed]\n",
    "- i14_utility (https://gitlab.diamond.ac.uk/i14/i14_utility)"
   ]
  },
  {
   "cell_type": "code",
   "execution_count": null,
   "metadata": {},
   "outputs": [],
   "source": [
    "import re\n",
    "import sys\n",
    "import time\n",
    "\n",
    "import dask\n",
    "from dask.distributed import Client, LocalCluster\n",
    "import numpy as np\n",
    "import yaml"
   ]
  },
  {
   "cell_type": "markdown",
   "metadata": {},
   "source": [
    "### Import some utilities and tools"
   ]
  },
  {
   "cell_type": "code",
   "execution_count": null,
   "metadata": {},
   "outputs": [],
   "source": [
    "from i14_utility.dpc.io import get_diffraction_frames, save\n",
    "from i14_utility.dpc.masking import sample_detector_image, get_mask_detector, get_mask_beam, combine_mask, visualise_mask\n",
    "from i14_utility.dpc.compute import calculate_maps, calculate_phase, visualise_map"
   ]
  },
  {
   "cell_type": "markdown",
   "metadata": {},
   "source": [
    "### Config Dask\n",
    "This needs to be done before any usage of Dask in other packages. Applying the setting below can often make the reconstruction quicker but at the expense of memory."
   ]
  },
  {
   "cell_type": "code",
   "execution_count": null,
   "metadata": {},
   "outputs": [],
   "source": [
    "if dask_use_local_cluster:\n",
    "    # https://github.com/dask/distributed/discussions/7128\n",
    "    # disable this to make it quicker (memory is not a huge issue here)\n",
    "    dask.config.set({'distributed.scheduler.worker-saturation': \"inf\"})\n",
    "    # disable this as in previous version of Dask\n",
    "    dask.config.set({'distributed.scheduler.active-memory-manager.start': False})\n",
    "    # not exist in previous version of Dask\n",
    "    dask.config.set({'distributed.worker.memory.transfer': 0.9})\n",
    "\n",
    "    cluster = LocalCluster(n_workers=dask_num_workers, processes=True, threads_per_worker=1)\n",
    "    client = Client(cluster)"
   ]
  },
  {
   "cell_type": "markdown",
   "metadata": {},
   "source": [
    "### Check if inpath and outpath is provided\n",
    "**This does not validate them.**"
   ]
  },
  {
   "cell_type": "code",
   "execution_count": null,
   "metadata": {},
   "outputs": [],
   "source": [
    "if not inpath:\n",
    "    msg = \"No 'inpath' is specified.\"\n",
    "    raise TypeError(msg)"
   ]
  },
  {
   "cell_type": "code",
   "execution_count": null,
   "metadata": {},
   "outputs": [],
   "source": [
    "if not outpath:\n",
    "    msg = \"No 'outpath' is specified.\"\n",
    "    raise TypeError(msg)"
   ]
  },
  {
   "cell_type": "markdown",
   "metadata": {},
   "source": [
    "### Override the path of output file\n",
    "This keeps the name backward compatible. No overriding is needed when it is not a auto-processing as the `outpath` is provided directly."
   ]
  },
  {
   "cell_type": "code",
   "execution_count": null,
   "metadata": {},
   "outputs": [],
   "source": [
    "if auto_processing:\n",
    "    regex_scan = re.compile(r\"(^.*/i14-\\d+)(.*$)\")\n",
    "    outpath = re.sub(regex_scan, r\"\\1-dpc_phase.nxs\", outpath)\n",
    "    print(f\"The overridden outpath is {outpath}\")"
   ]
  },
  {
   "cell_type": "markdown",
   "metadata": {},
   "source": [
    "### Get configuration from configuration file"
   ]
  },
  {
   "cell_type": "code",
   "execution_count": null,
   "metadata": {},
   "outputs": [],
   "source": [
    "# get processing configuration\n",
    "try:\n",
    "    process_configfile\n",
    "except NameError:\n",
    "    # keep the default behaviour if it is not defined\n",
    "    process_configfile = \"/dls_sw/i14/ops/processing/auto/processing.yaml\""
   ]
  },
  {
   "cell_type": "code",
   "execution_count": null,
   "metadata": {},
   "outputs": [],
   "source": [
    "mapping_default = {\"entry.instrument.dcm_enrg.value.value\": [\"Acquisition_instrument.XRF.beam_energy\", None], \n",
    "                   \"entry.instrument.sample.sample_rot.value\": [\"Acquisition_instrument.XRF.stage.rotation\", None],\n",
    "                   \"entry.instrument.detectors.excalibur_z.value\": [\"Acquisition_instrument.DPC.distance\", None],\n",
    "                  }\n",
    "dpc_config_default = {\"crop_size\": 256, \n",
    "                      \"dpc_exclude_crop_size\": 256, \n",
    "                      \"dpc_include_crop_size\": 128, \n",
    "                      \"fractional_dark\": 1.05, \n",
    "                      \"pixel_size\": 55e-6, \n",
    "                      \"absorption_map\": True, \n",
    "                      \"scatter_map\": True, \n",
    "                      \"radial_scatter_map\": True,\n",
    "                      \"second_moment_map\": False,\n",
    "                      \"quick_mask\": False, \n",
    "                      \"dpc_include_beam\": True, \n",
    "                      \"dpc_exclude_beam\": True, \n",
    "                      \"offset_x\": 0, \n",
    "                      \"offset_y\": 0, \n",
    "                      \"mirror\": True, \n",
    "                      \"anti\": True, \n",
    "                      \"zeropad\": False, \n",
    "                      \"high_pass_filter\": False, \n",
    "                      \"regularisation\": 0.001,\n",
    "                     }\n",
    "io_config_default = {\"dpc\": ['/entry/merlin_addetector', '/entry/eiger_addetector'], \n",
    "                     \"metadata_keys\": [\"instrument/dcm_enrg\", \n",
    "                                       \"instrument/sample/sample_rot\", \n",
    "                                       \"instrument/detectors/excalibur_z\"],\n",
    "                    }"
   ]
  },
  {
   "cell_type": "code",
   "execution_count": null,
   "metadata": {},
   "outputs": [],
   "source": [
    "try:\n",
    "    f = open(process_configfile)\n",
    "except FileNotFoundError:\n",
    "    print(f\"Configuration file {process_configfile} is not found. Default configurations will be used.\")\n",
    "\n",
    "    process_config = {\"mapping\": mapping_default,\n",
    "                      \"dpc\": dpc_config_default,\n",
    "                      \"io\": io_config_default,\n",
    "                     }\n",
    "else:\n",
    "    process_config = yaml.load(f.read(), Loader=yaml.FullLoader)\n",
    "    f.close()"
   ]
  },
  {
   "cell_type": "code",
   "execution_count": null,
   "metadata": {},
   "outputs": [],
   "source": [
    "mapping = process_config.get(\"mapping\", mapping_default)"
   ]
  },
  {
   "cell_type": "code",
   "execution_count": null,
   "metadata": {},
   "outputs": [],
   "source": [
    "dpc_config = process_config.get(\"dpc\", dpc_config_default)"
   ]
  },
  {
   "cell_type": "code",
   "execution_count": null,
   "metadata": {},
   "outputs": [],
   "source": [
    "crop_size = dpc_config.get(\"crop_size\", dpc_config_default[\"crop_size\"])\n",
    "dpc_include_crop_size = dpc_config.get(\"dpc_include_crop_size\", dpc_config_default[\"dpc_include_crop_size\"])\n",
    "dpc_exclude_crop_size = dpc_config.get(\"dpc_exclude_crop_size\", dpc_config_default[\"dpc_exclude_crop_size\"])\n",
    "fractional_dark = dpc_config.get(\"fractional_dark\", dpc_config_default[\"fractional_dark\"])\n",
    "pixel_size = dpc_config.get(\"pixel_size\", dpc_config_default[\"pixel_size\"])\n",
    "absorption_map = dpc_config.get(\"absorption_map\", dpc_config_default[\"absorption_map\"])\n",
    "scatter_map = dpc_config.get(\"scatter_map\", dpc_config_default[\"scatter_map\"])\n",
    "radial_scatter_map = dpc_config.get(\"radial_scatter_map\", dpc_config_default[\"radial_scatter_map\"])\n",
    "second_moment_map = dpc_config.get(\"second_moment_map\", dpc_config_default[\"second_moment_map\"])\n",
    "quick_mask = dpc_config.get(\"quick_mask\", dpc_config_default[\"quick_mask\"])\n",
    "dpc_include_beam = dpc_config.get(\"dpc_include_beam\", dpc_config_default[\"dpc_include_beam\"])\n",
    "dpc_exclude_beam = dpc_config.get(\"dpc_exclude_beam\", dpc_config_default[\"dpc_exclude_beam\"])\n",
    "offset_x = dpc_config.get(\"offset_x\", dpc_config_default[\"offset_x\"])\n",
    "offset_y = dpc_config.get(\"offset_y\", dpc_config_default[\"offset_y\"])\n",
    "dpc_mirror = dpc_config.get(\"mirror\", dpc_config_default[\"mirror\"])\n",
    "dpc_anti = dpc_config.get(\"anti\", dpc_config_default[\"anti\"])\n",
    "dpc_zeropad = dpc_config.get(\"zeropad\", dpc_config_default[\"zeropad\"])\n",
    "high_pass_filter = dpc_config.get(\"high_pass_filter\", dpc_config_default[\"high_pass_filter\"])\n",
    "regularisation = dpc_config.get(\"regularisation\", dpc_config_default[\"regularisation\"])"
   ]
  },
  {
   "cell_type": "code",
   "execution_count": null,
   "metadata": {},
   "outputs": [],
   "source": [
    "io_config = process_config.get(\"io\", io_config_default)"
   ]
  },
  {
   "cell_type": "code",
   "execution_count": null,
   "metadata": {},
   "outputs": [],
   "source": [
    "dataset_path = io_config.get(\"dpc\", io_config_default[\"dpc\"])\n",
    "metadata_keys = io_config.get(\"metadata_keys\", io_config_default[\"metadata_keys\"])"
   ]
  },
  {
   "cell_type": "code",
   "execution_count": null,
   "metadata": {},
   "outputs": [],
   "source": [
    "print(f\"{mapping = }\")\n",
    "print(f\"{crop_size = }\")\n",
    "print(f\"{dpc_include_crop_size = }\")\n",
    "print(f\"{dpc_exclude_crop_size = }\")\n",
    "print(f\"{fractional_dark = }\")\n",
    "print(f\"{scatter_map = }\")\n",
    "print(f\"{absorption_map = }\")\n",
    "print(f\"{radial_scatter_map = }\")\n",
    "print(f\"{dpc_include_beam = }\")\n",
    "print(f\"{dpc_exclude_beam = }\")\n",
    "print(f\"{offset_x = }\")\n",
    "print(f\"{offset_y = }\")\n",
    "print(f\"{dpc_mirror = }\")\n",
    "print(f\"{dpc_anti = }\")\n",
    "print(f\"{dpc_zeropad = }\")\n",
    "print(f\"{high_pass_filter = }\")\n",
    "print(f\"{regularisation = }\")\n",
    "print(f\"{quick_mask = }\")\n",
    "print(f\"{dataset_path = }\")\n",
    "print(f\"{metadata_keys = }\")"
   ]
  },
  {
   "cell_type": "markdown",
   "metadata": {},
   "source": [
    "### Load the signal lazily using HyperSpy\n",
    "It also loads associated metadata such as the scanning x and y positions, energy etc."
   ]
  },
  {
   "cell_type": "code",
   "execution_count": null,
   "metadata": {},
   "outputs": [],
   "source": [
    "start = time.perf_counter()\n",
    "\n",
    "s = get_diffraction_frames(inpath, dataset_path, metadata_keys)\n",
    "\n",
    "print(f\"HyperSpy loading: {time.perf_counter() - start} s\")"
   ]
  },
  {
   "cell_type": "code",
   "execution_count": null,
   "metadata": {},
   "outputs": [],
   "source": [
    "s"
   ]
  },
  {
   "cell_type": "markdown",
   "metadata": {},
   "source": [
    "### Sample a beam"
   ]
  },
  {
   "cell_type": "code",
   "execution_count": null,
   "metadata": {},
   "outputs": [],
   "source": [
    "start = time.perf_counter()\n",
    "\n",
    "sample_detector = sample_detector_image(s)\n",
    "\n",
    "print(f\"Get sample detector image: {time.perf_counter() - start} s\")"
   ]
  },
  {
   "cell_type": "markdown",
   "metadata": {},
   "source": [
    "### Get different masks"
   ]
  },
  {
   "cell_type": "code",
   "execution_count": null,
   "metadata": {},
   "outputs": [],
   "source": [
    "start = time.perf_counter()\n",
    "\n",
    "mask_detector, beam_accumulated = get_mask_detector(s, sample_beam=sample_detector)\n",
    "mask_beam = get_mask_beam(s, beam_accumulated=beam_accumulated)\n",
    "mask_combined = combine_mask(mask_detector, mask_beam)\n",
    "\n",
    "print(f\"Get masks: {time.perf_counter() - start} s\")"
   ]
  },
  {
   "cell_type": "code",
   "execution_count": null,
   "metadata": {},
   "outputs": [],
   "source": [
    "visualise_mask(sample_detector, mask_beam, mask_combined)"
   ]
  },
  {
   "cell_type": "markdown",
   "metadata": {},
   "source": [
    "### Calculate different maps\n",
    "Absorption map, scatter map, scatter map with radial mask, centre-of-mass (excluding and including the beam)"
   ]
  },
  {
   "cell_type": "code",
   "execution_count": null,
   "metadata": {},
   "outputs": [],
   "source": [
    "# second moment always False\n",
    "flags = [absorption_map, scatter_map, radial_scatter_map, False, dpc_exclude_beam, dpc_include_beam]\n",
    "\n",
    "start = time.perf_counter()\n",
    "\n",
    "res = s.map(calculate_maps, mask=mask_combined, flags=flags,\n",
    "            inplace=False, ragged=False)\n",
    "res.compute()\n",
    "\n",
    "print(f\"Compute mappings: {time.perf_counter() - start} s\")"
   ]
  },
  {
   "cell_type": "code",
   "execution_count": null,
   "metadata": {},
   "outputs": [],
   "source": [
    "absp = res.data[:, :, 0].astype(float)\n",
    "scat = res.data[:, :, 1].astype(float)\n",
    "radl = np.vstack(res.data[:,:, 2].flatten()).reshape(*s.data.shape[:2], len(mask_combined.radial_exclude))\n",
    "smom = res.data[:, :, 3].astype(float)\n",
    "com_exclude = np.vstack(res.data[:, :, 4].flatten()).reshape(*s.data.shape[:2], 2)\n",
    "com_include = np.vstack(res.data[:, :, 5].flatten()).reshape(*s.data.shape[:2], 2)"
   ]
  },
  {
   "cell_type": "markdown",
   "metadata": {},
   "source": [
    "### Retrieve the phase from centre-of-mass\n",
    "#### Kottler method"
   ]
  },
  {
   "cell_type": "code",
   "execution_count": null,
   "metadata": {},
   "outputs": [],
   "source": [
    "phase_exclude, gradient_norm_exclude = calculate_phase(s, com_exclude, method='kottler',\n",
    "                                                       offset_x=offset_x, offset_y=offset_y,\n",
    "                                                       pixel_size=pixel_size, zeropad=dpc_zeropad,\n",
    "                                                       mirroring=dpc_mirror, mirror_flip=dpc_anti)"
   ]
  },
  {
   "cell_type": "code",
   "execution_count": null,
   "metadata": {},
   "outputs": [],
   "source": [
    "phase_include, gradient_norm_include = calculate_phase(s, com_include, method='kottler',\n",
    "                                                       offset_x=offset_x, offset_y=offset_y,\n",
    "                                                       pixel_size=pixel_size, zeropad=dpc_zeropad,\n",
    "                                                       mirroring=dpc_mirror, mirror_flip=dpc_anti)"
   ]
  },
  {
   "cell_type": "markdown",
   "metadata": {},
   "source": [
    "#### Lazic method"
   ]
  },
  {
   "cell_type": "code",
   "execution_count": null,
   "metadata": {},
   "outputs": [],
   "source": [
    "phase_lazic_exclude, _ = calculate_phase(s, com_exclude, method='lazic', \n",
    "                                         offset_x=offset_x, offset_y=offset_y,\n",
    "                                         pixel_size=pixel_size, zeropad=dpc_zeropad,\n",
    "                                         mirroring=dpc_mirror, mirror_flip=dpc_anti,\n",
    "                                         high_pass_filter=high_pass_filter, regularisation=regularisation\n",
    "                                        )"
   ]
  },
  {
   "cell_type": "code",
   "execution_count": null,
   "metadata": {},
   "outputs": [],
   "source": [
    "phase_lazic_include, _ = calculate_phase(s, com_include, method='lazic', \n",
    "                                         offset_x=offset_x, offset_y=offset_y,\n",
    "                                         pixel_size=pixel_size, zeropad=dpc_zeropad,\n",
    "                                         mirroring=dpc_mirror, mirror_flip=dpc_anti,\n",
    "                                         high_pass_filter=high_pass_filter, regularisation=regularisation\n",
    "                                        )"
   ]
  },
  {
   "cell_type": "markdown",
   "metadata": {},
   "source": [
    "### Visualise mapping"
   ]
  },
  {
   "cell_type": "code",
   "execution_count": null,
   "metadata": {},
   "outputs": [],
   "source": [
    "data_to_save = {'absorption_map': absp,\n",
    "                'scatter_map': scat,\n",
    "                'second_moment': smom,\n",
    "                'CoMx_exclude': com_exclude[:, :, 1],\n",
    "                'CoMy_exclude': com_exclude[:, :, 0],\n",
    "                'CoMx_include': com_include[:, :, 1],\n",
    "                'CoMy_include': com_include[:, :, 0],\n",
    "                'kottler_exclude': phase_exclude,\n",
    "                'phase_gradient_norm_exclude': gradient_norm_exclude,\n",
    "                'kottler_include': phase_include,\n",
    "                'phase_gradient_norm_include': gradient_norm_include,\n",
    "                'lazic_exclude': phase_lazic_exclude,\n",
    "                'lazic_include': phase_lazic_include,\n",
    "               }\n",
    "\n",
    "if radial_scatter_map:\n",
    "    for k, radial_mask in enumerate(mask_combined.radial_exclude):\n",
    "        data_to_save.update({f'radial_mask_{k}': ~radial_mask})\n",
    "        data_to_save.update({f'radial_mask_data_{k}': radl[:, :, k]})"
   ]
  },
  {
   "cell_type": "code",
   "execution_count": null,
   "metadata": {},
   "outputs": [],
   "source": [
    "visualise_map(data_to_save)"
   ]
  },
  {
   "cell_type": "markdown",
   "metadata": {},
   "source": [
    "### Save the results"
   ]
  },
  {
   "cell_type": "code",
   "execution_count": null,
   "metadata": {},
   "outputs": [],
   "source": [
    "save(s, outpath, inpath, data_to_save=data_to_save)"
   ]
  },
  {
   "cell_type": "markdown",
   "metadata": {},
   "source": [
    "### Send the output file to GDA"
   ]
  },
  {
   "cell_type": "code",
   "execution_count": null,
   "metadata": {},
   "outputs": [],
   "source": [
    "try:\n",
    "    sys.path.append(\"/dls_sw/i14/software/daqmessenger\")\n",
    "    from daqmessenger import DaqMessenger\n",
    "except (PermissionError, ImportError):\n",
    "    print(\"No messenger\")\n",
    "else:\n",
    "    daq = DaqMessenger(\"i14-control\")\n",
    "    daq.connect()\n",
    "    daq.send_file(outpath)\n",
    "    daq.disconnect()"
   ]
  },
  {
   "cell_type": "markdown",
   "metadata": {},
   "source": [
    "### Shut down"
   ]
  },
  {
   "cell_type": "code",
   "execution_count": null,
   "metadata": {},
   "outputs": [],
   "source": [
    "if dask_use_local_cluster:\n",
    "    client.close()\n",
    "    cluster.close()"
   ]
  },
  {
   "cell_type": "code",
   "execution_count": null,
   "metadata": {},
   "outputs": [],
   "source": []
  }
 ],
 "metadata": {
  "kernelspec": {
   "display_name": "Python 3 (ipykernel)",
   "language": "python",
   "name": "python3"
  }
 },
 "nbformat": 4,
 "nbformat_minor": 4
}
