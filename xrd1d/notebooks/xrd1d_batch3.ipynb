{
 "cells": [
  {
   "cell_type": "code",
   "execution_count": null,
   "metadata": {
    "tags": [
     "parameters"
    ]
   },
   "outputs": [],
   "source": [
    " # This cell is tagged with \"parameters\" and used by papermill\n",
    "# the outpath will be overridden to keep the name backward compatible if it is from auto-processing\n",
    "\n",
    "# default settings\n",
    "inpath = \"\" # type: str\n",
    "outpath = \"\" # type: str\n",
    "process_configfile = \"/dls_sw/i14/ops/processing/auto/pyfai_live.yaml\" # type: str\n",
    "calibration_path = \"\" # type: str\n",
    "mask_path = \"\" # type: str\n",
    "flat_path = \"\" # type: str\n",
    "background_type = \"\" # type: str\n",
    "polynomial_order = 0 # type: int\n",
    "auto_processing = False # type: bool"
   ]
  },
  {
   "cell_type": "markdown",
   "metadata": {},
   "source": [
    "## Import all the necessary packages\n",
    "(module load python/epsic3.10)"
   ]
  },
  {
   "cell_type": "code",
   "execution_count": null,
   "metadata": {},
   "outputs": [],
   "source": [
    "from importlib.metadata import version as imlib_ver\n",
    "import subprocess\n",
    "import yaml\n",
    "\n",
    "import h5py\n",
    "import matplotlib.pyplot as plt\n",
    "import numpy as np"
   ]
  },
  {
   "cell_type": "code",
   "execution_count": null,
   "metadata": {},
   "outputs": [],
   "source": [
    "from pyFAI.detectors import Detector\n",
    "from pyFAI.azimuthalIntegrator import AzimuthalIntegrator\n",
    "from pyFAI.ext.morphology import binary_dilation\n",
    "from pyFAI.utils import crc32\n",
    "from pyFAI import units\n",
    "print(f\"pyFAI version: {imlib_ver('pyfai')}\")"
   ]
  },
  {
   "cell_type": "code",
   "execution_count": null,
   "metadata": {},
   "outputs": [],
   "source": [
    "from i14_utility.xrd.integrate_direct import ExcaliburXRDIntegration"
   ]
  },
  {
   "cell_type": "markdown",
   "metadata": {},
   "source": [
    "## Load all the necessary configurations"
   ]
  },
  {
   "cell_type": "code",
   "execution_count": null,
   "metadata": {},
   "outputs": [],
   "source": [
    "# get processing configuration\n",
    "if not process_configfile:\n",
    "    # points to the base pyFAI configuration file\n",
    "    process_configfile = \"/dls_sw/i14/ops/processing/auto/pyfai_live.yaml\""
   ]
  },
  {
   "cell_type": "code",
   "execution_count": null,
   "metadata": {},
   "outputs": [],
   "source": [
    "# typing out all here to ensure it doesn't depend on the base pyFAI configuration file\n",
    "dataset_key_default = \"/entry/excalibur_addetector/data\"\n",
    "dataset_path_default = \"/entry/excalibur_addetector\"\n",
    "\n",
    "mask_default = {\"mask_path\": \"/dls/i14/data/2024/cm37259-1/processing/xrd_calibration/mask_edge.nxs\",\n",
    "                \"mask_key\": \"/entry/mask/mask\",\n",
    "                \"dilate_mask\": True,\n",
    "               }\n",
    "\n",
    "flat_default = {\"flat_path\": \"/dls/i14/data/2024/cm37259-1/processing/xrd_calibration/ffcoeffs_Zr_fixed.hdf\",\n",
    "                \"flat_key\": \"/entry/data\",\n",
    "               }\n",
    "\n",
    "do_regrid_default = True\n",
    "\n",
    "xrd1d_default = {\"perform\": True,\n",
    "                 \"npt_rad\": 1024,\n",
    "                 \"unit\": \"q_A^-1\",\n",
    "                 \"toSave\": True,\n",
    "                 \"correctSolidAngle\": True,\n",
    "                 \"polarization_factor\": 0.95,\n",
    "                 \"radial_min\": None,\n",
    "                 \"radial_max\": None,\n",
    "                 \"azimuthal_min\": None,\n",
    "                 \"azimuthal_max\": None,\n",
    "                 \"safe\": False,\n",
    "                }\n",
    "\n",
    "# The navigation dimension can be cropped. The first entry is the starting pixel\n",
    "# (start from 0) and the second entry is the last pixel. For example, if only\n",
    "# the first 10 pixels in the x coordinate is needed, set crop/x/start to\n",
    "# 0 or null and crop/x/end to 10.\n",
    "# If no cropping is needed, just leave them as null\n",
    "crop_default = {\"x\": {\"start\": None, \"end\": None},\n",
    "                \"y\": {\"start\": None, \"end\": None},\n",
    "               }\n",
    "\n",
    "background_removal_default = {\"remove_background\": True, # perform background removal or not\n",
    "                              \"background_type\": \"Polynomial\", # can be Doniach, Gaussian, Lorentzian, Offset, Polynomial, PowerLaw, Exponential, SkewNormal, SplitVoigt, Voigt or Empty\n",
    "                              \"polynomial_order\": 7, # only active if Polynomial is chosen\n",
    "                              \"background_file\": None, # only active if Empty is chosen\n",
    "                              \"bg_start\": None, # the range of the radial axis that the background model is to be fitted\n",
    "                              \"bg_end\": None, # set to null for full range\n",
    "                              \"smoothing_weight\": 0, # smoothing weight for total variation denoising, 0 for no smoothing\n",
    "                             }"
   ]
  },
  {
   "cell_type": "code",
   "execution_count": null,
   "metadata": {},
   "outputs": [],
   "source": [
    "try:\n",
    "    f = open(process_configfile)\n",
    "except FileNotFoundError:\n",
    "    print(f\"Configuration file {process_configfile} is not found. Default configurations will be used.\")\n",
    "\n",
    "    process_config = {\"calibration_path\": \"\",\n",
    "                      \"dataset_key\": dataset_key_default,\n",
    "                      \"dataset_path\": dataset_path_default,\n",
    "                      \"mask\": mask_default,\n",
    "                      \"flat\": flat_default,\n",
    "                      \"do_regrid\": do_regrid_default,\n",
    "                      \"xrd1d\": xrd1d_default,\n",
    "                      \"crop\": crop_default,\n",
    "                      \"background_removal\": background_removal_default,\n",
    "                     }\n",
    "else:\n",
    "    process_config = yaml.load(f.read(), Loader=yaml.FullLoader)\n",
    "    f.close()"
   ]
  },
  {
   "cell_type": "code",
   "execution_count": null,
   "metadata": {},
   "outputs": [],
   "source": [
    "if not calibration_path:\n",
    "    # calibration_path was not passed as a parameter, get it from the configuration file\n",
    "    calibration_path = process_config.get(\"calibration_path\", \"\")\n",
    "    \n",
    "dataset_path = process_config.get(\"dataset_path\", dataset_path_default)\n",
    "do_regrid = process_config.get(\"do_regrid\", do_regrid_default)"
   ]
  },
  {
   "cell_type": "code",
   "execution_count": null,
   "metadata": {},
   "outputs": [],
   "source": [
    "mask_config = process_config.get(\"mask\", mask_default)\n",
    "\n",
    "if not mask_path:\n",
    "    # mask_path was not passed as a parameter, get it from the configuration file\n",
    "    mask_path = mask_config.get(\"mask_path\", mask_default[\"mask_path\"])\n",
    "    \n",
    "mask_key = mask_config.get(\"mask_key\", mask_default[\"mask_key\"])\n",
    "dilate_mask = mask_config.get(\"dilate_mask\", mask_default[\"dilate_mask\"])"
   ]
  },
  {
   "cell_type": "code",
   "execution_count": null,
   "metadata": {},
   "outputs": [],
   "source": [
    "flat_config = process_config.get(\"flat\", flat_default)\n",
    "\n",
    "if not flat_path:\n",
    "    # flat_path was not passed as a parameter, get it from the configuration file\n",
    "    flat_path = flat_config.get(\"flat_path\", flat_default[\"flat_path\"])\n",
    "    \n",
    "flat_key = flat_config.get(\"flat_key\", flat_default[\"flat_key\"])"
   ]
  },
  {
   "cell_type": "code",
   "execution_count": null,
   "metadata": {},
   "outputs": [],
   "source": [
    "print(f\"{calibration_path = }\")\n",
    "print(f\"{dataset_path = }\")\n",
    "print(f\"{mask_path = }\")\n",
    "print(f\"{mask_key = }\")\n",
    "print(f\"{dilate_mask = }\")\n",
    "print(f\"{flat_path = }\")\n",
    "print(f\"{flat_key = }\")"
   ]
  },
  {
   "cell_type": "code",
   "execution_count": null,
   "metadata": {},
   "outputs": [],
   "source": [
    "xrd1d_config = process_config.get(\"xrd1d\", xrd1d_default)\n",
    "\n",
    "npt_rad = xrd1d_config.get(\"npt_rad\", xrd1d_default[\"npt_rad\"])\n",
    "unit = xrd1d_config.get(\"unit\", xrd1d_default[\"unit\"])\n",
    "toSave = xrd1d_config.get(\"toSave\", xrd1d_default[\"toSave\"])\n",
    "correctSolidAngle = xrd1d_config.get(\"correctSolidAngle\", xrd1d_default[\"correctSolidAngle\"])\n",
    "polarization_factor = xrd1d_config.get(\"polarization_factor\", xrd1d_default[\"polarization_factor\"])\n",
    "radial_min = xrd1d_config.get(\"radial_min\", xrd1d_default[\"radial_min\"])\n",
    "radial_max = xrd1d_config.get(\"radial_max\", xrd1d_default[\"radial_max\"])\n",
    "azimuthal_min = xrd1d_config.get(\"azimuthal_min\", xrd1d_default[\"azimuthal_min\"])\n",
    "azimuthal_max = xrd1d_config.get(\"azimuthal_max\", xrd1d_default[\"azimuthal_max\"])\n",
    "safe = xrd1d_config.get(\"safe\", xrd1d_default[\"safe\"])"
   ]
  },
  {
   "cell_type": "code",
   "execution_count": null,
   "metadata": {},
   "outputs": [],
   "source": [
    "crop_config = process_config.get(\"crop\", crop_default)\n",
    "crop_x_config = crop_config.get(\"x\", crop_default[\"x\"])\n",
    "crop_y_config = crop_config.get(\"y\", crop_default[\"y\"])\n",
    "\n",
    "crop_x_start = crop_x_config.get(\"start\", crop_default[\"x\"][\"start\"])\n",
    "crop_x_end = crop_x_config.get(\"end\", crop_default[\"x\"][\"end\"])\n",
    "crop_y_start = crop_y_config.get(\"start\", crop_default[\"y\"][\"start\"])\n",
    "crop_y_end = crop_y_config.get(\"end\", crop_default[\"y\"][\"end\"])\n",
    "crop_x = slice(crop_x_start, crop_x_end)  #start, end (None means default)\n",
    "crop_y = slice(crop_y_start, crop_y_end)  #start, end (None means default)"
   ]
  },
  {
   "cell_type": "code",
   "execution_count": null,
   "metadata": {},
   "outputs": [],
   "source": [
    "background_removal_config = process_config.get(\"background_removal\", background_removal_default)\n",
    "\n",
    "remove_background = background_removal_config.get(\"remove_background\", background_removal_default[\"remove_background\"])\n",
    "if not background_type:\n",
    "    # background_type was not passed as a parameter, get it from the configuration file\n",
    "    background_type = background_removal_config.get(\"background_type\", background_removal_default[\"background_type\"])\n",
    "if not polynomial_order:\n",
    "    # polynomial_order was not passed as a parameter, get it from the configuration file\n",
    "    polynomial_order = background_removal_config.get(\"polynomial_order\", background_removal_default[\"polynomial_order\"])\n",
    "bg_start = background_removal_config.get(\"bg_start\", background_removal_default[\"bg_start\"])\n",
    "bg_end = background_removal_config.get(\"bg_end\", background_removal_default[\"bg_end\"])\n",
    "smoothing_weight = background_removal_config.get(\"smoothing_weight\", background_removal_default[\"smoothing_weight\"])"
   ]
  },
  {
   "cell_type": "code",
   "execution_count": null,
   "metadata": {},
   "outputs": [],
   "source": [
    "print(f\"{npt_rad = }\")\n",
    "print(f\"{unit = }\")\n",
    "print(f\"{toSave = }\")\n",
    "print(f\"{correctSolidAngle = }\")\n",
    "print(f\"{polarization_factor = }\")\n",
    "print(f\"{radial_min = }\")\n",
    "print(f\"{radial_max = }\")\n",
    "print(f\"{azimuthal_min = }\")\n",
    "print(f\"{azimuthal_max = }\")\n",
    "print(f\"{safe = }\")\n",
    "print(f\"{crop_x = }\")\n",
    "print(f\"{crop_y = }\")\n",
    "print()\n",
    "print(f\"{remove_background = }\")\n",
    "if remove_background:\n",
    "    print(f\"{background_type = }\")\n",
    "    print(f\"{polynomial_order = }\")\n",
    "    print(f\"{bg_start = }\")\n",
    "    print(f\"{bg_end = }\")\n",
    "    print(f\"{smoothing_weight = }\")"
   ]
  },
  {
   "cell_type": "code",
   "execution_count": null,
   "metadata": {},
   "outputs": [],
   "source": [
    "if not calibration_path:\n",
    "    msg = f\"Invalid calibration path {calibration_path}, please check the path of the calibration\"\n",
    "    raise ValueError(msg)"
   ]
  },
  {
   "cell_type": "markdown",
   "metadata": {},
   "source": [
    "## Check if GPU is available and select appropriate integration implementation \n",
    "Check if any (NVIDIA) GPU is available"
   ]
  },
  {
   "cell_type": "code",
   "execution_count": null,
   "metadata": {},
   "outputs": [],
   "source": [
    "try:\n",
    "    ngpu = str(subprocess.check_output([\"nvidia-smi\", \"-L\"])).count(\"UUID\")\n",
    "except:\n",
    "    ngpu = 0\n",
    "\n",
    "# select integration implementation: (splitting, algorithm, implementation)\n",
    "# select integration method based on availibility of GPU\n",
    "if ngpu:\n",
    "    method = (\"bbox\", \"csr\", \"opencl\")\n",
    "else:\n",
    "    method = (\"bbox\", \"lut\", \"cython\")\n",
    "    \n",
    "print(f\"Number of GPU: {ngpu}\")\n",
    "print(f\"Integration implementation: {method}\")"
   ]
  },
  {
   "cell_type": "code",
   "execution_count": null,
   "metadata": {},
   "outputs": [],
   "source": [
    "if unit == \"2th_deg\":\n",
    "    tth = True\n",
    "    angstrom = False\n",
    "    unit_pyfai = \"q_nm^-1\"\n",
    "elif unit == \"q_A^-1\":\n",
    "    # setting angstrom directly won't work?\n",
    "    tth = False\n",
    "    angstrom = True\n",
    "    unit_pyfai = \"q_nm^-1\"\n",
    "    \n",
    "    if radial_min is not None:\n",
    "        radial_min *= 10\n",
    "    if radial_max is not None:\n",
    "        radial_max *= 10\n",
    "else:\n",
    "    tth = False\n",
    "    angstrom = False\n",
    "    unit_pyfai = unit"
   ]
  },
  {
   "cell_type": "markdown",
   "metadata": {},
   "source": [
    "## Load the mask"
   ]
  },
  {
   "cell_type": "code",
   "execution_count": null,
   "metadata": {},
   "outputs": [],
   "source": [
    "with h5py.File(mask_path, \"r\") as fm:\n",
    "    try:\n",
    "        dset_mask = fm[mask_key]\n",
    "    except KeyError:\n",
    "        msg = (f\"The mask file {mask_path} does not contain the dataset {mask_key}. \"\n",
    "                \"Check the file and pass the correct key for the mask.\")\n",
    "        raise KeyError(msg) from None\n",
    "    else:\n",
    "        mask = dset_mask[()]\n",
    "        \n",
    "if dilate_mask:\n",
    "    mask = binary_dilation(mask, radius=1.0)    "
   ]
  },
  {
   "cell_type": "markdown",
   "metadata": {},
   "source": [
    "## Load the calibration"
   ]
  },
  {
   "cell_type": "code",
   "execution_count": null,
   "metadata": {},
   "outputs": [],
   "source": [
    "with h5py.File(calibration_path, \"r\") as f:\n",
    "    px_x = f[\"/entry1/instrument/detector/detector_module/fast_pixel_direction\"][...]\n",
    "    px_y = f[\"/entry1/instrument/detector/detector_module/slow_pixel_direction\"][...]\n",
    "    ydim = f[\"/entry1/instrument/detector/detector_module/data_size\"][...][0]\n",
    "    xdim = f[\"/entry1/instrument/detector/detector_module/data_size\"][...][1]\n",
    "\n",
    "    bc_x = f[\"/entry1/instrument/detector/beam_center_x\"][...]\n",
    "    bc_y = f[\"/entry1/instrument/detector/beam_center_y\"][...]\n",
    "    distance = f[\"/entry1/instrument/detector/distance\"][...]\n",
    "\n",
    "    wavelength = f[\"/entry1/calibration_sample/beam/incident_wavelength\"][...]\n",
    "\n",
    "    eub = f[\"/entry1/instrument/detector/transformations/euler_b\"][...]\n",
    "    euc = f[\"/entry1/instrument/detector/transformations/euler_c\"][...]\n",
    "\n",
    "if not np.isclose(px_x, 0.055) or not np.isclose(px_y, 0.055):\n",
    "    print(\"*\"*80)\n",
    "    print(\"The pixel size of Excalibur should be 55 um.\")\n",
    "    print(f\"From calibration file, it is ({px_y*1000} um, {px_x*1000} um) (row, col)\")\n",
    "    print(\"The calibrated sample-to-detector distance might not be physical.\")\n",
    "    print(\"*\"*80)\n",
    "    \n",
    "print(f\"direct distance from sample to detector along the incident beam: {distance:.3f} mm\")\n",
    "print(f\"pixel position of the beam center: ({bc_x/px_x:.3f}, {bc_y/px_y:.3f})\")\n",
    "print(f\"tilt: {eub:.3f} deg\")\n",
    "print(f\"Rotation of the tilt plan arround the Z-detector axis: {euc:.3f} deg\")\n",
    "print(f\"Pixel size (x, y): ({px_x*1000:.3f}, {px_y*1000:.3f}) um\")\n",
    "print(f\"Detector size (row, col): ({ydim}, {xdim})\")\n",
    "print(f\"Wavelength: {wavelength:.3f} angstroms\")"
   ]
  },
  {
   "cell_type": "markdown",
   "metadata": {},
   "source": [
    "## Load flat field"
   ]
  },
  {
   "cell_type": "code",
   "execution_count": null,
   "metadata": {},
   "outputs": [],
   "source": [
    "with h5py.File(flat_path, \"r\") as f:\n",
    "    flat = f[flat_key][...]"
   ]
  },
  {
   "cell_type": "markdown",
   "metadata": {},
   "source": [
    "## Create Detector"
   ]
  },
  {
   "cell_type": "code",
   "execution_count": null,
   "metadata": {},
   "outputs": [],
   "source": [
    "detector = Detector(max_shape=(ydim, xdim))"
   ]
  },
  {
   "cell_type": "markdown",
   "metadata": {},
   "source": [
    "## Create integrator"
   ]
  },
  {
   "cell_type": "code",
   "execution_count": null,
   "metadata": {},
   "outputs": [],
   "source": [
    "ai = AzimuthalIntegrator(detector=detector, wavelength=wavelength*1e-10)"
   ]
  },
  {
   "cell_type": "markdown",
   "metadata": {},
   "source": [
    "## Set parameters of the integrator"
   ]
  },
  {
   "cell_type": "code",
   "execution_count": null,
   "metadata": {},
   "outputs": [],
   "source": [
    "ai.setFit2D(distance, bc_x/px_x, bc_y/px_y, tilt=eub, tiltPlanRotation=euc, \n",
    "            pixelX=px_x*1000, pixelY=px_y*1000, splineFile=None)\n",
    "\n",
    "mask_crc = crc32(mask)\n",
    "unit_pyfai = units.to_unit(unit_pyfai)\n",
    "integr = ai.setup_sparse_integrator((ydim, xdim), npt_rad, mask, None, None, \n",
    "                                    mask_checksum=mask_crc, \n",
    "                                    unit=unit_pyfai, \n",
    "                                    split=\"bbox\", algo=method[1],\n",
    "                                    scale=False)\n",
    "\n",
    "if radial_min is not None and radial_min<integr.pos0_min:\n",
    "    radial_min = integr.pos0_min\n",
    "elif radial_min is None:\n",
    "    radial_min = integr.pos0_min\n",
    "\n",
    "if radial_max is not None and radial_max>integr.pos0_max:\n",
    "    radial_max = integr.pos0_max\n",
    "elif radial_max is None:\n",
    "    radial_max = integr.pos0_max\n",
    "\n",
    "if azimuthal_min is None or azimuthal_min < -180:\n",
    "    azimuthal_min = -180\n",
    "if azimuthal_max is None or azimuthal_max > 180:\n",
    "    azimuthal_max = 180"
   ]
  },
  {
   "cell_type": "code",
   "execution_count": null,
   "metadata": {},
   "outputs": [],
   "source": [
    "# info passed to the integrator\n",
    "kwargs_1d = {\"npt\": npt_rad,\n",
    "             \"method\": method,\n",
    "             \"mask\": mask,\n",
    "             \"azimuth_range\": (azimuthal_min, azimuthal_max),\n",
    "             \"flat\": flat,\n",
    "             \"unit\": unit_pyfai,\n",
    "             \"correctSolidAngle\": correctSolidAngle,\n",
    "             \"polarization_factor\": polarization_factor,\n",
    "             \"radial_range\": (radial_min, radial_max),\n",
    "             \"safe\": safe,\n",
    "             }"
   ]
  },
  {
   "cell_type": "markdown",
   "metadata": {},
   "source": [
    "## Azimuthal integration will start here\n",
    "### Initialise the instance responsible for the integration"
   ]
  },
  {
   "cell_type": "code",
   "execution_count": null,
   "metadata": {},
   "outputs": [],
   "source": [
    "exi = ExcaliburXRDIntegration(inpath, \n",
    "                              outpath, \n",
    "                              ai,\n",
    "                              regrid=do_regrid,\n",
    "                              kwargs_1d=kwargs_1d,\n",
    "                              crop_y=crop_y, \n",
    "                              crop_x=crop_x,\n",
    "                              tth=tth, \n",
    "                              angstrom=angstrom, \n",
    "                             )"
   ]
  },
  {
   "cell_type": "markdown",
   "metadata": {},
   "source": [
    "### Populate the instance's attributes with metadata"
   ]
  },
  {
   "cell_type": "code",
   "execution_count": null,
   "metadata": {},
   "outputs": [],
   "source": [
    "exi.populate_metadata()"
   ]
  },
  {
   "cell_type": "markdown",
   "metadata": {},
   "source": [
    "### Create the output file\n",
    "This includes all axis information and other metadata."
   ]
  },
  {
   "cell_type": "code",
   "execution_count": null,
   "metadata": {},
   "outputs": [],
   "source": [
    "exi.create_output(process_configfile=process_configfile,\n",
    "                  calibration_path=calibration_path,\n",
    "                 )"
   ]
  },
  {
   "cell_type": "markdown",
   "metadata": {},
   "source": [
    "### Prepare background options"
   ]
  },
  {
   "cell_type": "code",
   "execution_count": null,
   "metadata": {},
   "outputs": [],
   "source": [
    "if remove_background:\n",
    "    bg_opts = {\"background_type\": background_type,\n",
    "               \"polynomial_order\": polynomial_order,\n",
    "               \"bg_start\": bg_start,\n",
    "               \"bg_end\": bg_end,\n",
    "               \"smoothing_weight\": smoothing_weight,\n",
    "              }\n",
    "else:\n",
    "    bg_opts = None"
   ]
  },
  {
   "cell_type": "markdown",
   "metadata": {},
   "source": [
    "### Perform file I/O operation and azimuthal integration\n",
    "This includes reading the detector data, azimuthal integration (with background removal/smoothing if enabled) and writing the spectrum to the output file."
   ]
  },
  {
   "cell_type": "code",
   "execution_count": null,
   "metadata": {},
   "outputs": [],
   "source": [
    "exi.read_integr_write(bg_opts=bg_opts)\n",
    "exi.time_summary()"
   ]
  },
  {
   "cell_type": "markdown",
   "metadata": {},
   "source": [
    "### Visualise azimuthal integrated data"
   ]
  },
  {
   "cell_type": "code",
   "execution_count": null,
   "metadata": {},
   "outputs": [],
   "source": [
    "xrd00 = exi.first_spectrum\n",
    "radial = exi.radial_axis\n",
    "\n",
    "fig, ax = plt.subplots(figsize=(16,9))\n",
    "ax.plot(radial, xrd00, \"b-\", label=\"raw\")\n",
    "\n",
    "if remove_background:\n",
    "    xrd00_br = exi.first_spectrum_bg\n",
    "    ax.plot(radial, xrd00_br, \"r-\", label=\"background removed\")\n",
    "\n",
    "ax.set_xlabel(unit)\n",
    "ax.set_ylabel(\"Intensity\")\n",
    "ax.legend()\n",
    "plt.show()"
   ]
  }
 ],
 "metadata": {
  "kernelspec": {
   "display_name": "Python 3 (ipykernel)",
   "language": "python",
   "name": "python3"
  },
  "language_info": {
   "codemirror_mode": {
    "name": "ipython",
    "version": 3
   },
   "file_extension": ".py",
   "mimetype": "text/x-python",
   "name": "python",
   "nbconvert_exporter": "python",
   "pygments_lexer": "ipython3",
   "version": "3.11.10"
  }
 },
 "nbformat": 4,
 "nbformat_minor": 4
}
